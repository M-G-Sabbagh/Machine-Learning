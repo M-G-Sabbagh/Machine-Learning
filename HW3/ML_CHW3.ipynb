{
 "cells": [
  {
   "cell_type": "code",
   "execution_count": 2,
   "metadata": {
    "executionInfo": {
     "elapsed": 6791,
     "status": "ok",
     "timestamp": 1641566926413,
     "user": {
      "displayName": "Maryam Sabbagh",
      "photoUrl": "https://lh3.googleusercontent.com/a/default-user=s64",
      "userId": "06928927359545472632"
     },
     "user_tz": 480
    },
    "id": "JIUW_gf6LIx6"
   },
   "outputs": [],
   "source": [
    "import pandas as pd\n",
    "import numpy as np\n",
    "import matplotlib.pyplot as plt\n",
    "\n",
    "from sklearn.model_selection import train_test_split\n",
    "from sklearn.metrics import classification_report, confusion_matrix, accuracy_score\n",
    "\n",
    "from sklearn import svm\n",
    "\n",
    "from sklearn.neighbors import KNeighborsClassifier\n",
    "\n",
    "from sklearn.tree import DecisionTreeClassifier\n",
    "\n",
    "import torch\n",
    "import torch.nn as nn\n",
    "import torch.optim as optim\n",
    "import torch.nn.functional as F\n",
    "import torchvision\n",
    "from torch.utils.data import Dataset, DataLoader, TensorDataset\n",
    "import torchvision.transforms as transforms\n",
    "\n"
   ]
  },
  {
   "cell_type": "code",
   "execution_count": 4,
   "metadata": {
    "executionInfo": {
     "elapsed": 311,
     "status": "ok",
     "timestamp": 1641566977760,
     "user": {
      "displayName": "Maryam Sabbagh",
      "photoUrl": "https://lh3.googleusercontent.com/a/default-user=s64",
      "userId": "06928927359545472632"
     },
     "user_tz": 480
    },
    "id": "gPumMaRHLIx-"
   },
   "outputs": [],
   "source": [
    "def confusion(Y, Y_predict):\n",
    "    L = len(Y)\n",
    "    CM = np.zeros([10,10])\n",
    "    for i in range(10):\n",
    "        for j in range(10):\n",
    "            temp = 0\n",
    "            for p in range(L):\n",
    "                    \n",
    "                if Y[p] == i and Y_predict[p] == j:\n",
    "                    temp = temp + 1\n",
    "            CM[i,j] = temp\n",
    "    CM = CM.astype(int)\n",
    "    \n",
    "    return CM"
   ]
  },
  {
   "cell_type": "code",
   "execution_count": 5,
   "metadata": {
    "executionInfo": {
     "elapsed": 302,
     "status": "ok",
     "timestamp": 1641566980870,
     "user": {
      "displayName": "Maryam Sabbagh",
      "photoUrl": "https://lh3.googleusercontent.com/a/default-user=s64",
      "userId": "06928927359545472632"
     },
     "user_tz": 480
    },
    "id": "OzwaNIPuLIx_"
   },
   "outputs": [],
   "source": [
    "def accuracy(Y, Y_predict):\n",
    "    CM = confusion(Y, Y_predict)\n",
    "    temp1 = 0\n",
    "    temp2 = 0\n",
    "    for i in range(10):\n",
    "        temp1 = temp1 + CM[i,i]\n",
    "        for j in range(10):\n",
    "            temp2 = temp2 + CM[i,j] \n",
    "    accuracy = temp1/temp2       \n",
    "    return accuracy "
   ]
  },
  {
   "cell_type": "code",
   "execution_count": 6,
   "metadata": {
    "executionInfo": {
     "elapsed": 1228,
     "status": "ok",
     "timestamp": 1641566986848,
     "user": {
      "displayName": "Maryam Sabbagh",
      "photoUrl": "https://lh3.googleusercontent.com/a/default-user=s64",
      "userId": "06928927359545472632"
     },
     "user_tz": 480
    },
    "id": "hOyRe83MLIyA"
   },
   "outputs": [],
   "source": [
    "# Load data\n",
    "dataset = pd.read_csv(\"fashion-mnist.csv\")\n",
    "npdataset = dataset.to_numpy()\n",
    "#print(dataset.head(2))\n",
    "#print(np.shape(dataset))\n",
    "X = npdataset[:, 0:784]\n",
    "Y = npdataset[:, 784]"
   ]
  },
  {
   "cell_type": "code",
   "execution_count": 7,
   "metadata": {
    "colab": {
     "base_uri": "https://localhost:8080/"
    },
    "executionInfo": {
     "elapsed": 283,
     "status": "ok",
     "timestamp": 1641566988840,
     "user": {
      "displayName": "Maryam Sabbagh",
      "photoUrl": "https://lh3.googleusercontent.com/a/default-user=s64",
      "userId": "06928927359545472632"
     },
     "user_tz": 480
    },
    "id": "jJls5LdYLIyB",
    "outputId": "54a7e8e4-1832-4f0a-9184-b4a437e7e7c9"
   },
   "outputs": [
    {
     "name": "stdout",
     "output_type": "stream",
     "text": [
      "(5000, 784)\n",
      "(3500, 784)\n",
      "(1500, 784)\n"
     ]
    }
   ],
   "source": [
    "# Split data\n",
    "Xs, X_rem, Ys, Y_rem = train_test_split(X,Y, train_size = 0.5)\n",
    "Xv, Xt, Yv, Yt = train_test_split(X_rem,Y_rem, train_size = 0.7)\n",
    "\n",
    "print(np.shape(Xs))\n",
    "print(np.shape(Xv))\n",
    "print(np.shape(Xt))"
   ]
  },
  {
   "cell_type": "markdown",
   "metadata": {
    "id": "lYEuOBUmLIyE"
   },
   "source": [
    "#  SVM Algorithm With Linear Kernel"
   ]
  },
  {
   "cell_type": "code",
   "execution_count": 8,
   "metadata": {
    "executionInfo": {
     "elapsed": 5187,
     "status": "ok",
     "timestamp": 1641567008595,
     "user": {
      "displayName": "Maryam Sabbagh",
      "photoUrl": "https://lh3.googleusercontent.com/a/default-user=s64",
      "userId": "06928927359545472632"
     },
     "user_tz": 480
    },
    "id": "BIyMDDLTLIyH"
   },
   "outputs": [],
   "source": [
    "clf = svm.SVC(kernel ='linear', C = 1)      # Build classifier\n",
    "clf.fit(Xs, Ys)                             # Learn classifier with S (train data set)\n",
    "Yv_SVM_LK = clf.predict(Xv)\n",
    "Yt_SVM_LK = clf.predict(Xt)"
   ]
  },
  {
   "cell_type": "code",
   "execution_count": 9,
   "metadata": {
    "colab": {
     "base_uri": "https://localhost:8080/"
    },
    "executionInfo": {
     "elapsed": 582,
     "status": "ok",
     "timestamp": 1641567012026,
     "user": {
      "displayName": "Maryam Sabbagh",
      "photoUrl": "https://lh3.googleusercontent.com/a/default-user=s64",
      "userId": "06928927359545472632"
     },
     "user_tz": 480
    },
    "id": "Sw-NY8I_LIyJ",
    "outputId": "fa88f9c2-262a-4951-b5c1-83309d608ef0"
   },
   "outputs": [
    {
     "name": "stdout",
     "output_type": "stream",
     "text": [
      "Confusion matrix for validation dataset using SVM algorithm with linear kernel:\n",
      "[[281   1   8  14   2   0  41   0   5   0]\n",
      " [  2 328   0   8   2   0   1   0   0   0]\n",
      " [ 11   3 250   4  51   0  45   0   5   0]\n",
      " [ 30   5   2 284   8   0   9   0   1   0]\n",
      " [  3   1  69  12 264   0  38   0   0   0]\n",
      " [  0   1   0   0   0 266   0  24   3  12]\n",
      " [ 66   3  50   7  44   0 153   0   9   0]\n",
      " [  0   0   0   0   0  15   0 314   1  25]\n",
      " [  5   1   2   1   1   2   4   1 340   0]\n",
      " [  0   0   0   0   0   2   0  16   0 344]] \n",
      "\n",
      "Accuracy for validation dataset using SVM algorithm with linear kernel:\n",
      "0.8068571428571428 \n",
      "\n",
      "Confusion matrix for test dataset using SVM algorithm with linear kernel:\n",
      "[[121   1   3   2   1   0  14   0   1   0]\n",
      " [  3 152   0   1   0   0   0   0   1   0]\n",
      " [  7   1 111   0  12   0  20   0   1   0]\n",
      " [ 19   4   2 124   5   0   7   0   1   0]\n",
      " [  4   0  14   7  93   0  12   0   0   0]\n",
      " [  0   0   0   0   0 132   0   7   0   6]\n",
      " [ 27   0  23   6  17   0  81   0   3   0]\n",
      " [  0   0   0   0   0   8   0 130   0   7]\n",
      " [  0   0   2   0   0   1   7   1 155   0]\n",
      " [  0   0   0   0   0   3   0   8   0 132]] \n",
      "\n",
      "Accuracy for test dataset using SVM algorithm with linear kernel:\n",
      "0.8206666666666667 \n",
      "\n"
     ]
    }
   ],
   "source": [
    "print('Confusion matrix for validation dataset using SVM algorithm with linear kernel:')\n",
    "print(confusion(Yv,Yv_SVM_LK),'\\n')\n",
    "#print(confusion_matrix(Yv,Yv_SVM_LK))\n",
    "print('Accuracy for validation dataset using SVM algorithm with linear kernel:')\n",
    "print(accuracy(Yv,Yv_SVM_LK),'\\n')\n",
    "#print(classification_report(Yv,Yv_SVM_LK))\n",
    "#print(acc(confusion_matrix(Yv,Yv_SVM_LK)))\n",
    "print('Confusion matrix for test dataset using SVM algorithm with linear kernel:')\n",
    "print(confusion(Yt,Yt_SVM_LK),'\\n')\n",
    "print('Accuracy for test dataset using SVM algorithm with linear kernel:')\n",
    "print(accuracy(Yt,Yt_SVM_LK),'\\n')"
   ]
  },
  {
   "cell_type": "markdown",
   "metadata": {
    "id": "-uAKXtk6LIyK"
   },
   "source": [
    "# SVM Algorithm With Gaussian Kernel"
   ]
  },
  {
   "cell_type": "code",
   "execution_count": 12,
   "metadata": {
    "colab": {
     "base_uri": "https://localhost:8080/"
    },
    "executionInfo": {
     "elapsed": 280,
     "status": "ok",
     "timestamp": 1641567078330,
     "user": {
      "displayName": "Maryam Sabbagh",
      "photoUrl": "https://lh3.googleusercontent.com/a/default-user=s64",
      "userId": "06928927359545472632"
     },
     "user_tz": 480
    },
    "id": "7zvVpdGM8FWO",
    "outputId": "6116c5be-bc88-46b7-a1fe-d3c23cd2059e"
   },
   "outputs": [
    {
     "name": "stdout",
     "output_type": "stream",
     "text": [
      "1.5964761551357707e-07\n"
     ]
    }
   ],
   "source": [
    "n_features = 784\n",
    "default_gamma = 1 / (n_features * Xs.var())\n",
    "print(default_gamma)"
   ]
  },
  {
   "cell_type": "code",
   "execution_count": 22,
   "metadata": {
    "executionInfo": {
     "elapsed": 225972,
     "status": "ok",
     "timestamp": 1641568627535,
     "user": {
      "displayName": "Maryam Sabbagh",
      "photoUrl": "https://lh3.googleusercontent.com/a/default-user=s64",
      "userId": "06928927359545472632"
     },
     "user_tz": 480
    },
    "id": "-gCVqA9Iyo0S"
   },
   "outputs": [],
   "source": [
    "SVM_GK_accuracy = []\n",
    "for k in range(30):\n",
    "    clf_SVM_GK = svm.SVC(kernel = 'rbf', gamma = (14.5 + k/10) * 10 ** (-8))  \n",
    "    clf_SVM_GK.fit(Xs, Ys)\n",
    "    Yv_SVM_GK = clf_SVM_GK.predict(Xv)\n",
    "    SVM_GK_accuracy.append(accuracy(Yv, Yv_SVM_GK)) "
   ]
  },
  {
   "cell_type": "code",
   "execution_count": 23,
   "metadata": {
    "colab": {
     "base_uri": "https://localhost:8080/",
     "height": 295
    },
    "executionInfo": {
     "elapsed": 360,
     "status": "ok",
     "timestamp": 1641568632315,
     "user": {
      "displayName": "Maryam Sabbagh",
      "photoUrl": "https://lh3.googleusercontent.com/a/default-user=s64",
      "userId": "06928927359545472632"
     },
     "user_tz": 480
    },
    "id": "qGHouxB_3bqN",
    "outputId": "edd387fa-625f-4297-89fc-db4196c2b993"
   },
   "outputs": [
    {
     "name": "stdout",
     "output_type": "stream",
     "text": [
      "The optimal value of gamma is 1.67e-07\n"
     ]
    },
    {
     "data": {
      "image/png": "[encoded data removed]",
      "text/plain": [
       "<Figure size 432x288 with 1 Axes>"
      ]
     },
     "metadata": {
      "needs_background": "light"
     },
     "output_type": "display_data"
    }
   ],
   "source": [
    "plt.plot((np.arange(30)/10 + 14.5) * 10 ** (-8), SVM_GK_accuracy)\n",
    "best_gamma =(14.5 + (np.argmax(SVM_GK_accuracy) )/10 ) * 10 ** (-8)\n",
    "print('The optimal value of gamma is', best_gamma)"
   ]
  },
  {
   "cell_type": "code",
   "execution_count": 24,
   "metadata": {
    "executionInfo": {
     "elapsed": 9997,
     "status": "ok",
     "timestamp": 1641568693157,
     "user": {
      "displayName": "Maryam Sabbagh",
      "photoUrl": "https://lh3.googleusercontent.com/a/default-user=s64",
      "userId": "06928927359545472632"
     },
     "user_tz": 480
    },
    "id": "gkL4U4JRFoh-"
   },
   "outputs": [],
   "source": [
    "clf_SVM_GK = svm.SVC(kernel = 'rbf', gamma = best_gamma)\n",
    "clf_SVM_GK.fit(Xs, Ys)\n",
    "Yv_SVM_GK = clf_SVM_GK.predict(Xv)\n",
    "Yt_SVM_GK = clf_SVM_GK.predict(Xt)"
   ]
  },
  {
   "cell_type": "code",
   "execution_count": 25,
   "metadata": {
    "colab": {
     "base_uri": "https://localhost:8080/"
    },
    "executionInfo": {
     "elapsed": 738,
     "status": "ok",
     "timestamp": 1641568696437,
     "user": {
      "displayName": "Maryam Sabbagh",
      "photoUrl": "https://lh3.googleusercontent.com/a/default-user=s64",
      "userId": "06928927359545472632"
     },
     "user_tz": 480
    },
    "id": "WxP5_0HGEfkd",
    "outputId": "97169414-37e4-4303-ce6b-6eb89339a0da"
   },
   "outputs": [
    {
     "name": "stdout",
     "output_type": "stream",
     "text": [
      "Confusion matrix for validation dataset using SVM algorithm with Gaussian kernel:\n",
      "[[293   0   6  21   0   0  28   0   4   0]\n",
      " [  3 321   2  13   0   0   2   0   0   0]\n",
      " [  4   0 276   7  48   0  32   0   2   0]\n",
      " [ 23   0   2 295   9   0   9   0   1   0]\n",
      " [  0   1  37  12 296   0  40   0   1   0]\n",
      " [  0   0   0   0   0 275   0  18   3  10]\n",
      " [ 67   0  43   7  29   0 180   0   6   0]\n",
      " [  0   0   0   0   0   9   0 323   0  23]\n",
      " [  3   0   4   2   1   0   3   3 341   0]\n",
      " [  0   0   0   0   0   1   0  14   0 347]] \n",
      "\n",
      "Accuracy for validation dataset using SVM algorithm with Gaussian kernel:\n",
      "0.842 \n",
      "\n",
      "Confusion matrix for test dataset using SVM algorithm with Gaussian kernel:\n",
      "[[126   0   3   4   1   0   7   0   2   0]\n",
      " [  2 151   0   3   0   0   0   0   1   0]\n",
      " [  4   0 121   0  10   1  14   0   2   0]\n",
      " [ 13   0   0 141   5   0   3   0   0   0]\n",
      " [  0   0  10   8 101   0  11   0   0   0]\n",
      " [  0   0   0   0   0 134   0   5   0   6]\n",
      " [ 32   0  13   4  15   0  91   0   2   0]\n",
      " [  0   0   0   0   0   3   0 138   0   4]\n",
      " [  0   0   1   0   0   1   3   0 160   1]\n",
      " [  0   0   0   0   0   0   0   9   0 134]] \n",
      "\n",
      "Accuracy for test dataset using SVM algorithm with Gaussian kernel:\n",
      "0.8646666666666667 \n",
      "\n"
     ]
    }
   ],
   "source": [
    "print('Confusion matrix for validation dataset using SVM algorithm with Gaussian kernel:')\n",
    "print(confusion(Yv,Yv_SVM_GK),'\\n')\n",
    "print('Accuracy for validation dataset using SVM algorithm with Gaussian kernel:')\n",
    "print(accuracy(Yv,Yv_SVM_GK),'\\n')\n",
    "print('Confusion matrix for test dataset using SVM algorithm with Gaussian kernel:')\n",
    "print(confusion(Yt,Yt_SVM_GK),'\\n')\n",
    "print('Accuracy for test dataset using SVM algorithm with Gaussian kernel:')\n",
    "print(accuracy(Yt,Yt_SVM_GK),'\\n')"
   ]
  },
  {
   "cell_type": "markdown",
   "metadata": {
    "id": "7Jgk1ZWkLIyN"
   },
   "source": [
    "# K-Nearest-Neighbor Algorithm"
   ]
  },
  {
   "cell_type": "code",
   "execution_count": 26,
   "metadata": {
    "executionInfo": {
     "elapsed": 68209,
     "status": "ok",
     "timestamp": 1641568835540,
     "user": {
      "displayName": "Maryam Sabbagh",
      "photoUrl": "https://lh3.googleusercontent.com/a/default-user=s64",
      "userId": "06928927359545472632"
     },
     "user_tz": 480
    },
    "id": "2OmK8ZQYLIyN"
   },
   "outputs": [],
   "source": [
    "# sklearn.neighbors.KNeighborsClassifier(n_neighbors=5, *, weights='uniform', algorithm='auto', leaf_size=30, p=2, metric='minkowski', metric_params=None, n_jobs=None)\n",
    "\n",
    "KNN_accuracy = []\n",
    "for k in range(1, 50):\n",
    "    clf_KNN = KNeighborsClassifier(n_neighbors = k) #Instance generation.\n",
    "    clf_KNN.fit(Xs, Ys)                       #Model creation execution\n",
    "    Yv_KNN = clf_KNN.predict(Xv)                    #Predictive execution\n",
    "    KNN_accuracy.append(accuracy(Yv, Yv_KNN)) #Precision storage"
   ]
  },
  {
   "cell_type": "code",
   "execution_count": 30,
   "metadata": {
    "colab": {
     "base_uri": "https://localhost:8080/",
     "height": 282
    },
    "executionInfo": {
     "elapsed": 373,
     "status": "ok",
     "timestamp": 1641568938027,
     "user": {
      "displayName": "Maryam Sabbagh",
      "photoUrl": "https://lh3.googleusercontent.com/a/default-user=s64",
      "userId": "06928927359545472632"
     },
     "user_tz": 480
    },
    "id": "LGRtR68MLIyO",
    "outputId": "d5af1cd5-1289-4b45-a719-7d7f08898262"
   },
   "outputs": [
    {
     "name": "stdout",
     "output_type": "stream",
     "text": [
      "The optimal value of K is 2\n"
     ]
    },
    {
     "data": {
      "image/png": "[encoded data removed]",
      "text/plain": [
       "<Figure size 432x288 with 1 Axes>"
      ]
     },
     "metadata": {
      "needs_background": "light"
     },
     "output_type": "display_data"
    }
   ],
   "source": [
    "plt.plot(np.arange(49) + 1, KNN_accuracy)\n",
    "best_n_neighbors = np.argmax(KNN_accuracy) + 1\n",
    "print('The optimal value of K is', best_n_neighbors)"
   ]
  },
  {
   "cell_type": "code",
   "execution_count": 28,
   "metadata": {
    "executionInfo": {
     "elapsed": 1838,
     "status": "ok",
     "timestamp": 1641568859291,
     "user": {
      "displayName": "Maryam Sabbagh",
      "photoUrl": "https://lh3.googleusercontent.com/a/default-user=s64",
      "userId": "06928927359545472632"
     },
     "user_tz": 480
    },
    "id": "vDKsf0ZqxACF"
   },
   "outputs": [],
   "source": [
    "clf_KNN = KNeighborsClassifier(n_neighbors = best_n_neighbors) #Instance generation.\n",
    "clf_KNN.fit(Xs, Ys)                       #Model creation execution\n",
    "Yv_KNN = clf_KNN.predict(Xv)                    #Predictive execution\n",
    "Yt_KNN = clf_KNN.predict(Xt)   "
   ]
  },
  {
   "cell_type": "code",
   "execution_count": 29,
   "metadata": {
    "colab": {
     "base_uri": "https://localhost:8080/"
    },
    "executionInfo": {
     "elapsed": 700,
     "status": "ok",
     "timestamp": 1641568865113,
     "user": {
      "displayName": "Maryam Sabbagh",
      "photoUrl": "https://lh3.googleusercontent.com/a/default-user=s64",
      "userId": "06928927359545472632"
     },
     "user_tz": 480
    },
    "id": "yBtVMHfzx33R",
    "outputId": "8bd99aa1-6242-421b-806d-258465b1736d"
   },
   "outputs": [
    {
     "name": "stdout",
     "output_type": "stream",
     "text": [
      "Confusion matrix for validation dataset using K-NN algorithm:\n",
      "[[312   0  16   9   0   0  12   0   3   0]\n",
      " [  8 323   2   8   0   0   0   0   0   0]\n",
      " [ 11   0 290   5  36   0  27   0   0   0]\n",
      " [ 38  11   8 270   7   0   5   0   0   0]\n",
      " [  2   0 107  26 224   0  28   0   0   0]\n",
      " [  2   0   0   0   3 243   1  32   1  24]\n",
      " [ 85   0  65   7  36   0 137   0   2   0]\n",
      " [  0   0   0   0   1   3   0 331   1  19]\n",
      " [  4   0   7   3   2   1  10   6 323   1]\n",
      " [  0   0   0   0   0   0   0  26   0 336]] \n",
      "\n",
      "Accuracy for validation dataset using K-NN algorithm:\n",
      "0.7968571428571428 \n",
      "\n",
      "Confusion matrix for test dataset using K-NN algorithm:\n",
      "[[119   0   8   3   0   0  11   0   2   0]\n",
      " [  4 150   1   1   0   0   1   0   0   0]\n",
      " [  7   0 113   0  21   0  11   0   0   0]\n",
      " [ 22   3   0 132   4   0   1   0   0   0]\n",
      " [  3   0  37   9  76   0   5   0   0   0]\n",
      " [  0   0   0   0   0 116   0  15   0  14]\n",
      " [ 44   0  26   4  16   0  67   0   0   0]\n",
      " [  0   0   0   0   0   2   0 139   0   4]\n",
      " [  1   0   4   3   1   0   6   1 150   0]\n",
      " [  0   0   0   0   0   1   0  17   0 125]] \n",
      "\n",
      "Accuracy for test dataset using K-NN algorithm:\n",
      "0.7913333333333333 \n",
      "\n"
     ]
    }
   ],
   "source": [
    "print('Confusion matrix for validation dataset using K-NN algorithm:')\n",
    "print(confusion(Yv,Yv_KNN),'\\n')\n",
    "print('Accuracy for validation dataset using K-NN algorithm:')\n",
    "print(accuracy(Yv,Yv_KNN),'\\n')\n",
    "print('Confusion matrix for test dataset using K-NN algorithm:')\n",
    "print(confusion(Yt,Yt_KNN),'\\n')\n",
    "print('Accuracy for test dataset using K-NN algorithm:')\n",
    "print(accuracy(Yt,Yt_KNN),'\\n')"
   ]
  },
  {
   "cell_type": "markdown",
   "metadata": {
    "id": "JEFG2dARLIyP"
   },
   "source": [
    "# Decision Tree Algorithm"
   ]
  },
  {
   "cell_type": "code",
   "execution_count": 31,
   "metadata": {
    "executionInfo": {
     "elapsed": 2477,
     "status": "ok",
     "timestamp": 1641568996297,
     "user": {
      "displayName": "Maryam Sabbagh",
      "photoUrl": "https://lh3.googleusercontent.com/a/default-user=s64",
      "userId": "06928927359545472632"
     },
     "user_tz": 480
    },
    "id": "a-EhSbLVLIyP"
   },
   "outputs": [],
   "source": [
    "clf_DT = DecisionTreeClassifier()\n",
    "clf_DT.fit(Xs, Ys)\n",
    "Yv_DT = clf_DT.predict(Xv)\n",
    "Yt_DT = clf_DT.predict(Xt)"
   ]
  },
  {
   "cell_type": "code",
   "execution_count": 32,
   "metadata": {
    "colab": {
     "base_uri": "https://localhost:8080/"
    },
    "executionInfo": {
     "elapsed": 695,
     "status": "ok",
     "timestamp": 1641569000435,
     "user": {
      "displayName": "Maryam Sabbagh",
      "photoUrl": "https://lh3.googleusercontent.com/a/default-user=s64",
      "userId": "06928927359545472632"
     },
     "user_tz": 480
    },
    "id": "n1fH7Y8nLIyQ",
    "outputId": "3ef66539-3c12-4c2d-e21d-3a17152036fb"
   },
   "outputs": [
    {
     "name": "stdout",
     "output_type": "stream",
     "text": [
      "Confusion matrix for validation dataset using Decision Tree algorithm:\n",
      "[[254   3   9  13   6   3  56   0   8   0]\n",
      " [  2 310   1  19   2   0   3   0   4   0]\n",
      " [ 18   2 229   4  59   0  50   1   4   2]\n",
      " [ 35  15   7 243  16   2  15   0   6   0]\n",
      " [  6   3  81  25 225   3  38   1   4   1]\n",
      " [  0   0   0   3   1 248   0  32   7  15]\n",
      " [ 47   4  39  16  51   2 165   0   8   0]\n",
      " [  0   0   0   0   0  27   1 281   6  40]\n",
      " [  6   0   8  11   5  12   5   4 300   6]\n",
      " [  1   0   2   1   1  11   2  27   4 313]] \n",
      "\n",
      "Accuracy for validation dataset using Decision Tree algorithm:\n",
      "0.7337142857142858 \n",
      "\n",
      "Confusion matrix for test dataset using Decision Tree algorithm:\n",
      "[[104   2   8   1   3   2  22   0   1   0]\n",
      " [  1 141   0  10   1   0   1   0   3   0]\n",
      " [  3   1  90   3  28   2  20   0   3   2]\n",
      " [ 14  10   3 122   7   0   4   0   2   0]\n",
      " [  1   2  35   5  74   0  11   0   2   0]\n",
      " [  0   1   0   0   0 124   2   9   5   4]\n",
      " [ 26   0  18   6  25   0  79   0   3   0]\n",
      " [  0   0   0   0   0  10   1 124   0  10]\n",
      " [  3   0   9   6   2   2   6   0 136   2]\n",
      " [  0   0   0   0   1   4   1  24   3 110]] \n",
      "\n",
      "Accuracy for test dataset using Decision Tree algorithm:\n",
      "0.736 \n",
      "\n"
     ]
    }
   ],
   "source": [
    "print('Confusion matrix for validation dataset using Decision Tree algorithm:')\n",
    "print(confusion(Yv,Yv_DT),'\\n')\n",
    "print('Accuracy for validation dataset using Decision Tree algorithm:')\n",
    "print(accuracy(Yv,Yv_DT),'\\n')\n",
    "print('Confusion matrix for test dataset using Decision Tree algorithm:')\n",
    "print(confusion(Yt,Yt_DT),'\\n')\n",
    "print('Accuracy for test dataset using Decision Tree algorithm:')\n",
    "print(accuracy(Yt,Yt_DT),'\\n')"
   ]
  },
  {
   "cell_type": "markdown",
   "metadata": {
    "id": "csjN_4zD0skQ"
   },
   "source": [
    "# Neural Network"
   ]
  },
  {
   "cell_type": "code",
   "execution_count": 33,
   "metadata": {
    "colab": {
     "base_uri": "https://localhost:8080/"
    },
    "executionInfo": {
     "elapsed": 310,
     "status": "ok",
     "timestamp": 1641569045696,
     "user": {
      "displayName": "Maryam Sabbagh",
      "photoUrl": "https://lh3.googleusercontent.com/a/default-user=s64",
      "userId": "06928927359545472632"
     },
     "user_tz": 480
    },
    "id": "_LDBZb0A1EHF",
    "outputId": "f0a36ebc-3af2-41aa-8ae8-18582b0fb6f0"
   },
   "outputs": [
    {
     "name": "stdout",
     "output_type": "stream",
     "text": [
      "Your system: cuda\n"
     ]
    }
   ],
   "source": [
    "# device\n",
    "use_cuda = torch.cuda.is_available()\n",
    "device = torch.device(\"cuda\" if use_cuda else \"cpu\")\n",
    "print ('Your system: ' + str(device))"
   ]
  },
  {
   "cell_type": "code",
   "execution_count": 34,
   "metadata": {
    "executionInfo": {
     "elapsed": 9672,
     "status": "ok",
     "timestamp": 1641569057902,
     "user": {
      "displayName": "Maryam Sabbagh",
      "photoUrl": "https://lh3.googleusercontent.com/a/default-user=s64",
      "userId": "06928927359545472632"
     },
     "user_tz": 480
    },
    "id": "A74ejIf2l-fS"
   },
   "outputs": [],
   "source": [
    "tensor_Xs = torch.Tensor(Xs).to(device=device)                            # transform to torch tensor\n",
    "tensor_Ys = torch.Tensor(Ys).to(device=device)\n",
    "\n",
    "train_dataset = TensorDataset(tensor_Xs,tensor_Ys)      # create dataset\n",
    "\n",
    "tensor_Xv = torch.Tensor(Xv).to(device=device)                         # transform to torch tensor\n",
    "tensor_Yv = torch.Tensor(Yv).to(device=device)\n",
    "\n",
    "validation_dataset = TensorDataset(tensor_Xv,tensor_Yv) # create dataset\n",
    "\n",
    "tensor_Xt = torch.Tensor(Xt).to(device=device)                            # transform to torch tensor\n",
    "tensor_Yt = torch.Tensor(Yt).to(device=device)\n",
    "\n",
    "test_dataset = TensorDataset(tensor_Xs,tensor_Ys)      # create dataset\n"
   ]
  },
  {
   "cell_type": "code",
   "execution_count": 35,
   "metadata": {
    "executionInfo": {
     "elapsed": 299,
     "status": "ok",
     "timestamp": 1641569065771,
     "user": {
      "displayName": "Maryam Sabbagh",
      "photoUrl": "https://lh3.googleusercontent.com/a/default-user=s64",
      "userId": "06928927359545472632"
     },
     "user_tz": 480
    },
    "id": "t1oWC7qSKCAP"
   },
   "outputs": [],
   "source": [
    "# Hyperparams\n",
    "batch_size_train = 64\n",
    "batch_size_test = 100"
   ]
  },
  {
   "cell_type": "code",
   "execution_count": 36,
   "metadata": {
    "executionInfo": {
     "elapsed": 294,
     "status": "ok",
     "timestamp": 1641569068228,
     "user": {
      "displayName": "Maryam Sabbagh",
      "photoUrl": "https://lh3.googleusercontent.com/a/default-user=s64",
      "userId": "06928927359545472632"
     },
     "user_tz": 480
    },
    "id": "aji9EWSjn3AX"
   },
   "outputs": [],
   "source": [
    "train_dataloader = DataLoader(train_dataset, batch_size=batch_size_train, shuffle=True)\n",
    "test_dataloader = DataLoader(test_dataset, batch_size=batch_size_test, shuffle=True)"
   ]
  },
  {
   "cell_type": "code",
   "execution_count": 69,
   "metadata": {
    "colab": {
     "base_uri": "https://localhost:8080/"
    },
    "executionInfo": {
     "elapsed": 337,
     "status": "ok",
     "timestamp": 1641571302798,
     "user": {
      "displayName": "Maryam Sabbagh",
      "photoUrl": "https://lh3.googleusercontent.com/a/default-user=s64",
      "userId": "06928927359545472632"
     },
     "user_tz": 480
    },
    "id": "QC6oj1kBC6Zm",
    "outputId": "6fb096b0-54d9-4e53-87d0-3378afac1111"
   },
   "outputs": [
    {
     "name": "stdout",
     "output_type": "stream",
     "text": [
      "Net(\n",
      "  (fc1): Linear(in_features=784, out_features=100, bias=True)\n",
      "  (fc2): Linear(in_features=100, out_features=100, bias=True)\n",
      "  (fc3): Linear(in_features=100, out_features=10, bias=True)\n",
      ")\n"
     ]
    }
   ],
   "source": [
    "# Build the NN\n",
    "class Net(nn.Module):\n",
    "    def __init__(self):\n",
    "        super(Net, self).__init__()\n",
    "        self.fc1 = nn.Linear(784, 100)\n",
    "        self.fc2 = nn.Linear(100, 100)\n",
    "        self.fc3 = nn.Linear(100, 10)\n",
    "            \n",
    "\n",
    "    def forward(self, x):\n",
    "        x = F.relu(self.fc1(x))\n",
    "        x = F.relu(self.fc2(x))\n",
    "        x = self.fc3(x)\n",
    "        #output = F.log_softmax(x, dim=1)\n",
    "        return x\n",
    "        #return output\n",
    "\n",
    "net = Net().to(device = device)\n",
    "#display net architecture\n",
    "print(net)"
   ]
  },
  {
   "cell_type": "code",
   "execution_count": 70,
   "metadata": {
    "executionInfo": {
     "elapsed": 7,
     "status": "ok",
     "timestamp": 1641571306065,
     "user": {
      "displayName": "Maryam Sabbagh",
      "photoUrl": "https://lh3.googleusercontent.com/a/default-user=s64",
      "userId": "06928927359545472632"
     },
     "user_tz": 480
    },
    "id": "07JwuFcXfWk9"
   },
   "outputs": [],
   "source": [
    "criterion = nn.CrossEntropyLoss().to(device = device)\n",
    "optimizer = optim.SGD(net.parameters(), lr=0.0001, momentum=0.9)"
   ]
  },
  {
   "cell_type": "code",
   "execution_count": 71,
   "metadata": {
    "colab": {
     "base_uri": "https://localhost:8080/"
    },
    "executionInfo": {
     "elapsed": 7848,
     "status": "ok",
     "timestamp": 1641571319028,
     "user": {
      "displayName": "Maryam Sabbagh",
      "photoUrl": "https://lh3.googleusercontent.com/a/default-user=s64",
      "userId": "06928927359545472632"
     },
     "user_tz": 480
    },
    "id": "WvXw7kX-fk3N",
    "outputId": "aa565c1b-af8b-4478-da5a-cf47303d4f64"
   },
   "outputs": [
    {
     "name": "stdout",
     "output_type": "stream",
     "text": [
      "Epoch 1\n",
      "\n",
      "Epoch [1/30], Step [0/79], Loss: 17.6044\n",
      "Epoch [1/30], Step [20/79], Loss: 1.9404\n",
      "Epoch [1/30], Step [40/79], Loss: 1.1276\n",
      "Epoch [1/30], Step [60/79], Loss: 0.8494\n",
      "\n",
      "train-loss: 2.1470, train-acc: 59.2000\n",
      "validation loss: 0.7478, validation acc: 74.2000\n",
      "\n",
      "Epoch 2\n",
      "\n",
      "Epoch [2/30], Step [0/79], Loss: 1.1726\n",
      "Epoch [2/30], Step [20/79], Loss: 0.4881\n",
      "Epoch [2/30], Step [40/79], Loss: 0.8990\n",
      "Epoch [2/30], Step [60/79], Loss: 0.9586\n",
      "\n",
      "train-loss: 1.4284, train-acc: 75.2400\n",
      "validation loss: 0.6812, validation acc: 78.0200\n",
      "\n",
      "Epoch 3\n",
      "\n",
      "Epoch [3/30], Step [0/79], Loss: 0.7449\n",
      "Epoch [3/30], Step [20/79], Loss: 1.0554\n",
      "Epoch [3/30], Step [40/79], Loss: 0.5671\n",
      "Epoch [3/30], Step [60/79], Loss: 0.5036\n",
      "\n",
      "train-loss: 1.1442, train-acc: 79.4400\n",
      "validation loss: 0.6273, validation acc: 82.3000\n",
      "\n",
      "Epoch 4\n",
      "\n",
      "Epoch [4/30], Step [0/79], Loss: 0.4613\n",
      "Epoch [4/30], Step [20/79], Loss: 0.3657\n",
      "Epoch [4/30], Step [40/79], Loss: 0.5976\n",
      "Epoch [4/30], Step [60/79], Loss: 0.8529\n",
      "\n",
      "train-loss: 0.9896, train-acc: 82.0400\n",
      "validation loss: 0.5970, validation acc: 81.1600\n",
      "\n",
      "Epoch 5\n",
      "\n",
      "Epoch [5/30], Step [0/79], Loss: 0.5698\n",
      "Epoch [5/30], Step [20/79], Loss: 0.4908\n",
      "Epoch [5/30], Step [40/79], Loss: 0.6223\n",
      "Epoch [5/30], Step [60/79], Loss: 0.4063\n",
      "\n",
      "train-loss: 0.8912, train-acc: 82.2400\n",
      "validation loss: 0.5651, validation acc: 84.3800\n",
      "\n",
      "Epoch 6\n",
      "\n",
      "Epoch [6/30], Step [0/79], Loss: 0.5583\n",
      "Epoch [6/30], Step [20/79], Loss: 0.4879\n",
      "Epoch [6/30], Step [40/79], Loss: 0.3084\n",
      "Epoch [6/30], Step [60/79], Loss: 0.4509\n",
      "\n",
      "train-loss: 0.8184, train-acc: 83.7600\n",
      "validation loss: 0.5387, validation acc: 85.6400\n",
      "\n",
      "Epoch 7\n",
      "\n",
      "Epoch [7/30], Step [0/79], Loss: 0.4087\n",
      "Epoch [7/30], Step [20/79], Loss: 0.4671\n",
      "Epoch [7/30], Step [40/79], Loss: 0.4835\n",
      "Epoch [7/30], Step [60/79], Loss: 0.3974\n",
      "\n",
      "train-loss: 0.7632, train-acc: 84.8400\n",
      "validation loss: 0.5172, validation acc: 86.4200\n",
      "\n",
      "Epoch 8\n",
      "\n",
      "Epoch [8/30], Step [0/79], Loss: 0.4514\n",
      "Epoch [8/30], Step [20/79], Loss: 0.4651\n",
      "Epoch [8/30], Step [40/79], Loss: 0.3013\n",
      "Epoch [8/30], Step [60/79], Loss: 0.3992\n",
      "\n",
      "train-loss: 0.7184, train-acc: 85.4800\n",
      "validation loss: 0.4973, validation acc: 87.3400\n",
      "\n",
      "Epoch 9\n",
      "\n",
      "Epoch [9/30], Step [0/79], Loss: 0.2895\n",
      "Epoch [9/30], Step [20/79], Loss: 0.3450\n",
      "Epoch [9/30], Step [40/79], Loss: 0.2455\n",
      "Epoch [9/30], Step [60/79], Loss: 0.2864\n",
      "\n",
      "train-loss: 0.6802, train-acc: 86.9600\n",
      "validation loss: 0.4814, validation acc: 87.6000\n",
      "\n",
      "Epoch 10\n",
      "\n",
      "Epoch [10/30], Step [0/79], Loss: 0.2380\n",
      "Epoch [10/30], Step [20/79], Loss: 0.5355\n",
      "Epoch [10/30], Step [40/79], Loss: 0.4855\n",
      "Epoch [10/30], Step [60/79], Loss: 0.4352\n",
      "\n",
      "train-loss: 0.6488, train-acc: 86.9200\n",
      "validation loss: 0.4668, validation acc: 88.6400\n",
      "\n",
      "Epoch 11\n",
      "\n",
      "Epoch [11/30], Step [0/79], Loss: 0.2668\n",
      "Epoch [11/30], Step [20/79], Loss: 0.3122\n",
      "Epoch [11/30], Step [40/79], Loss: 0.3046\n",
      "Epoch [11/30], Step [60/79], Loss: 0.3273\n",
      "\n",
      "train-loss: 0.6220, train-acc: 87.0800\n",
      "validation loss: 0.4541, validation acc: 88.7200\n",
      "\n",
      "Epoch 12\n",
      "\n",
      "Epoch [12/30], Step [0/79], Loss: 0.3428\n",
      "Epoch [12/30], Step [20/79], Loss: 0.3232\n",
      "Epoch [12/30], Step [40/79], Loss: 0.6074\n",
      "Epoch [12/30], Step [60/79], Loss: 0.5349\n",
      "\n",
      "train-loss: 0.5979, train-acc: 88.0600\n",
      "validation loss: 0.4429, validation acc: 89.1400\n",
      "\n",
      "Epoch 13\n",
      "\n",
      "Epoch [13/30], Step [0/79], Loss: 0.2584\n",
      "Epoch [13/30], Step [20/79], Loss: 0.3760\n",
      "Epoch [13/30], Step [40/79], Loss: 0.4179\n",
      "Epoch [13/30], Step [60/79], Loss: 0.2893\n",
      "\n",
      "train-loss: 0.5768, train-acc: 88.6600\n",
      "validation loss: 0.4327, validation acc: 89.0600\n",
      "\n",
      "Epoch 14\n",
      "\n",
      "Epoch [14/30], Step [0/79], Loss: 0.3588\n",
      "Epoch [14/30], Step [20/79], Loss: 0.1843\n",
      "Epoch [14/30], Step [40/79], Loss: 0.3545\n",
      "Epoch [14/30], Step [60/79], Loss: 0.3108\n",
      "\n",
      "train-loss: 0.5581, train-acc: 88.9400\n",
      "validation loss: 0.4210, validation acc: 90.9400\n",
      "\n",
      "Epoch 15\n",
      "\n",
      "Epoch [15/30], Step [0/79], Loss: 0.2719\n",
      "Epoch [15/30], Step [20/79], Loss: 0.1887\n",
      "Epoch [15/30], Step [40/79], Loss: 0.3164\n",
      "Epoch [15/30], Step [60/79], Loss: 0.2598\n",
      "\n",
      "train-loss: 0.5416, train-acc: 88.8000\n",
      "validation loss: 0.4114, validation acc: 90.6800\n",
      "\n",
      "Epoch 16\n",
      "\n",
      "Epoch [16/30], Step [0/79], Loss: 0.2844\n",
      "Epoch [16/30], Step [20/79], Loss: 0.4095\n",
      "Epoch [16/30], Step [40/79], Loss: 0.2816\n",
      "Epoch [16/30], Step [60/79], Loss: 0.2842\n",
      "\n",
      "train-loss: 0.5254, train-acc: 90.1400\n",
      "validation loss: 0.4021, validation acc: 91.0400\n",
      "\n",
      "Epoch 17\n",
      "\n",
      "Epoch [17/30], Step [0/79], Loss: 0.1754\n",
      "Epoch [17/30], Step [20/79], Loss: 0.2697\n",
      "Epoch [17/30], Step [40/79], Loss: 0.2160\n",
      "Epoch [17/30], Step [60/79], Loss: 0.3712\n",
      "\n",
      "train-loss: 0.5105, train-acc: 90.5200\n",
      "validation loss: 0.3949, validation acc: 90.7200\n",
      "\n",
      "Epoch 18\n",
      "\n",
      "Epoch [18/30], Step [0/79], Loss: 0.2591\n",
      "Epoch [18/30], Step [20/79], Loss: 0.1712\n",
      "Epoch [18/30], Step [40/79], Loss: 0.1148\n",
      "Epoch [18/30], Step [60/79], Loss: 0.2940\n",
      "\n",
      "train-loss: 0.4966, train-acc: 91.0400\n",
      "validation loss: 0.3867, validation acc: 91.4000\n",
      "\n",
      "Epoch 19\n",
      "\n",
      "Epoch [19/30], Step [0/79], Loss: 0.1865\n",
      "Epoch [19/30], Step [20/79], Loss: 0.2684\n",
      "Epoch [19/30], Step [40/79], Loss: 0.2248\n",
      "Epoch [19/30], Step [60/79], Loss: 0.1389\n",
      "\n",
      "train-loss: 0.4837, train-acc: 91.5400\n",
      "validation loss: 0.3785, validation acc: 92.4200\n",
      "\n",
      "Epoch 20\n",
      "\n",
      "Epoch [20/30], Step [0/79], Loss: 0.2432\n",
      "Epoch [20/30], Step [20/79], Loss: 0.2811\n",
      "Epoch [20/30], Step [40/79], Loss: 0.3820\n",
      "Epoch [20/30], Step [60/79], Loss: 0.1811\n",
      "\n",
      "train-loss: 0.4723, train-acc: 91.3000\n",
      "validation loss: 0.3716, validation acc: 91.8200\n",
      "\n",
      "Epoch 21\n",
      "\n",
      "Epoch [21/30], Step [0/79], Loss: 0.1881\n",
      "Epoch [21/30], Step [20/79], Loss: 0.3523\n",
      "Epoch [21/30], Step [40/79], Loss: 0.2000\n",
      "Epoch [21/30], Step [60/79], Loss: 0.2710\n",
      "\n",
      "train-loss: 0.4624, train-acc: 90.9000\n",
      "validation loss: 0.3647, validation acc: 92.4400\n",
      "\n",
      "Epoch 22\n",
      "\n",
      "Epoch [22/30], Step [0/79], Loss: 0.1109\n",
      "Epoch [22/30], Step [20/79], Loss: 0.2016\n",
      "Epoch [22/30], Step [40/79], Loss: 0.1275\n",
      "Epoch [22/30], Step [60/79], Loss: 0.2906\n",
      "\n",
      "train-loss: 0.4526, train-acc: 91.4800\n",
      "validation loss: 0.3596, validation acc: 91.4000\n",
      "\n",
      "Epoch 23\n",
      "\n",
      "Epoch [23/30], Step [0/79], Loss: 0.1055\n",
      "Epoch [23/30], Step [20/79], Loss: 0.1698\n",
      "Epoch [23/30], Step [40/79], Loss: 0.1760\n",
      "Epoch [23/30], Step [60/79], Loss: 0.2299\n",
      "\n",
      "train-loss: 0.4433, train-acc: 91.6000\n",
      "validation loss: 0.3529, validation acc: 93.5200\n",
      "\n",
      "Epoch 24\n",
      "\n",
      "Epoch [24/30], Step [0/79], Loss: 0.2014\n",
      "Epoch [24/30], Step [20/79], Loss: 0.1227\n",
      "Epoch [24/30], Step [40/79], Loss: 0.3363\n",
      "Epoch [24/30], Step [60/79], Loss: 0.1879\n",
      "\n",
      "train-loss: 0.4342, train-acc: 92.3400\n",
      "validation loss: 0.3473, validation acc: 92.6800\n",
      "\n",
      "Epoch 25\n",
      "\n",
      "Epoch [25/30], Step [0/79], Loss: 0.3360\n",
      "Epoch [25/30], Step [20/79], Loss: 0.1302\n",
      "Epoch [25/30], Step [40/79], Loss: 0.1864\n",
      "Epoch [25/30], Step [60/79], Loss: 0.1920\n",
      "\n",
      "train-loss: 0.4256, train-acc: 92.8000\n",
      "validation loss: 0.3417, validation acc: 93.0600\n",
      "\n",
      "Epoch 26\n",
      "\n",
      "Epoch [26/30], Step [0/79], Loss: 0.2822\n",
      "Epoch [26/30], Step [20/79], Loss: 0.2809\n",
      "Epoch [26/30], Step [40/79], Loss: 0.2203\n",
      "Epoch [26/30], Step [60/79], Loss: 0.1834\n",
      "\n",
      "train-loss: 0.4173, train-acc: 93.1200\n",
      "validation loss: 0.3370, validation acc: 92.4800\n",
      "\n",
      "Epoch 27\n",
      "\n",
      "Epoch [27/30], Step [0/79], Loss: 0.2767\n",
      "Epoch [27/30], Step [20/79], Loss: 0.1174\n",
      "Epoch [27/30], Step [40/79], Loss: 0.1243\n",
      "Epoch [27/30], Step [60/79], Loss: 0.1570\n",
      "\n",
      "train-loss: 0.4095, train-acc: 93.2200\n",
      "validation loss: 0.3321, validation acc: 93.1800\n",
      "\n",
      "Epoch 28\n",
      "\n",
      "Epoch [28/30], Step [0/79], Loss: 0.2977\n",
      "Epoch [28/30], Step [20/79], Loss: 0.3286\n",
      "Epoch [28/30], Step [40/79], Loss: 0.2131\n",
      "Epoch [28/30], Step [60/79], Loss: 0.1709\n",
      "\n",
      "train-loss: 0.4021, train-acc: 93.2400\n",
      "validation loss: 0.3266, validation acc: 94.3200\n",
      "\n",
      "Epoch 29\n",
      "\n",
      "Epoch [29/30], Step [0/79], Loss: 0.0970\n",
      "Epoch [29/30], Step [20/79], Loss: 0.1861\n",
      "Epoch [29/30], Step [40/79], Loss: 0.1795\n",
      "Epoch [29/30], Step [60/79], Loss: 0.2887\n",
      "\n",
      "train-loss: 0.3948, train-acc: 93.6800\n",
      "validation loss: 0.3214, validation acc: 94.5000\n",
      "\n",
      "Epoch 30\n",
      "\n",
      "Epoch [30/30], Step [0/79], Loss: 0.1881\n",
      "Epoch [30/30], Step [20/79], Loss: 0.3051\n",
      "Epoch [30/30], Step [40/79], Loss: 0.2073\n",
      "Epoch [30/30], Step [60/79], Loss: 0.1439\n",
      "\n",
      "train-loss: 0.3879, train-acc: 94.1400\n",
      "validation loss: 0.3169, validation acc: 93.7600\n",
      "\n"
     ]
    }
   ],
   "source": [
    "#device = \"cuda\"\n",
    "n_epochs = 30\n",
    "print_every = 10\n",
    "valid_loss_min = np.Inf\n",
    "val_loss = []\n",
    "val_acc = []\n",
    "train_loss = []\n",
    "train_acc = []\n",
    "\n",
    "loss_vs_time = []\n",
    "\n",
    "total_step = len(train_dataloader)\n",
    "for epoch in range(1, n_epochs+1):\n",
    "    running_loss = 0.0\n",
    "    correct = 0\n",
    "    total=0\n",
    "    print(f'Epoch {epoch}\\n')\n",
    "    net.train()\n",
    "    for batch_idx, (data_, target_) in enumerate(train_dataloader):\n",
    "        data_, target_ = data_.to(device), target_.to(device)\n",
    "        optimizer.zero_grad()\n",
    "        \n",
    "        outputs = net(data_.float())\n",
    "        loss = criterion(outputs, target_.long())\n",
    "        loss.backward()\n",
    "        optimizer.step()\n",
    "\n",
    "        running_loss += loss.item()\n",
    "        _,pred = torch.max(outputs, dim=1)\n",
    "        correct += torch.sum(pred==target_).item()\n",
    "        total += target_.size(0)\n",
    "        if (batch_idx) % 20 == 0:\n",
    "            print ('Epoch [{}/{}], Step [{}/{}], Loss: {:.4f}' \n",
    "                  .format(epoch, n_epochs, batch_idx, total_step, loss.item()))\n",
    "    train_acc.append(100 * correct / total)\n",
    "    train_loss.append(running_loss/total_step)\n",
    "    print(f'\\ntrain-loss: {np.mean(train_loss):.4f}, train-acc: {(100 * correct/total):.4f}')\n",
    "    batch_loss = 0\n",
    "    total_t=0\n",
    "    correct_t=0\n",
    "    with torch.no_grad():\n",
    "        net.eval()\n",
    "        for data_t, target_t in (test_dataloader):\n",
    "            data_t, target_t = data_t.to(device), target_t.to(device)\n",
    "            outputs_t = net(data_t.float())\n",
    "            loss_t = criterion(outputs_t, target_t.long())\n",
    "            batch_loss += loss_t.item()\n",
    "            _,pred_t = torch.max(outputs_t, dim=1)\n",
    "            correct_t += torch.sum(pred_t==target_t).item()\n",
    "            total_t += target_t.size(0)\n",
    "        val_acc.append(100 * correct_t/total_t)\n",
    "        val_loss.append(batch_loss/len(test_dataloader))\n",
    "        network_learned = batch_loss < valid_loss_min\n",
    "        print(f'validation loss: {np.mean(val_loss):.4f}, validation acc: {(100 * correct_t/total_t):.4f}\\n')\n",
    "\n",
    "        loss_vs_time.append(np.mean(val_loss))\n"
   ]
  },
  {
   "cell_type": "code",
   "execution_count": 72,
   "metadata": {
    "executionInfo": {
     "elapsed": 345,
     "status": "ok",
     "timestamp": 1641571326922,
     "user": {
      "displayName": "Maryam Sabbagh",
      "photoUrl": "https://lh3.googleusercontent.com/a/default-user=s64",
      "userId": "06928927359545472632"
     },
     "user_tz": 480
    },
    "id": "k0ME-4erMpbZ"
   },
   "outputs": [],
   "source": [
    "with torch.no_grad():\n",
    "  net.eval()\n",
    "  outputs = (net(tensor_Xv)).cpu()\n",
    "  prediction = outputs.detach().numpy()\n",
    "  if prediction.ndim == 2:\n",
    "    Yv_NN = np.argmax(prediction, axis = 1)\n",
    "\n",
    "\n",
    "with torch.no_grad():\n",
    "  net.eval()\n",
    "  outputs = (net(tensor_Xt)).cpu()\n",
    "  prediction = outputs.detach().numpy()\n",
    "  if prediction.ndim == 2:\n",
    "    Yt_NN = np.argmax(prediction, axis = 1)"
   ]
  },
  {
   "cell_type": "code",
   "execution_count": 73,
   "metadata": {
    "colab": {
     "base_uri": "https://localhost:8080/"
    },
    "executionInfo": {
     "elapsed": 358,
     "status": "ok",
     "timestamp": 1641571335176,
     "user": {
      "displayName": "Maryam Sabbagh",
      "photoUrl": "https://lh3.googleusercontent.com/a/default-user=s64",
      "userId": "06928927359545472632"
     },
     "user_tz": 480
    },
    "id": "0I2OTI19ULxg",
    "outputId": "82d69aae-5d04-4448-db51-ff13e123ab88"
   },
   "outputs": [
    {
     "name": "stdout",
     "output_type": "stream",
     "text": [
      "Confusion matrix for validation dataset using Neural Network:\n",
      "[[288   3   6  11   4   0  34   0   6   0]\n",
      " [  3 321   1  11   4   0   1   0   0   0]\n",
      " [  3   2 214   6  76   0  63   0   5   0]\n",
      " [ 29   0   1 285  11   0  11   0   2   0]\n",
      " [  0   0  14   8 319   0  43   0   3   0]\n",
      " [  0   0   0   0   0 272   3  12   3  16]\n",
      " [ 50   1  14   7  46   0 208   0   6   0]\n",
      " [  0   0   0   0   0  13   0 321   0  21]\n",
      " [  5   0   1   0   4   3   5   1 337   1]\n",
      " [  0   1   0   0   0   6   0  17   0 338]] \n",
      "\n",
      "Accuracy for validation dataset using Neural Network:\n",
      "0.8294285714285714 \n",
      "\n",
      "Confusion matrix for test dataset using Neural Network:\n",
      "[[119   1   5   2   1   0  13   0   2   0]\n",
      " [  1 153   1   1   0   0   0   0   1   0]\n",
      " [  2   1  92   2  28   0  25   0   2   0]\n",
      " [ 13   1   2 132   9   0   4   0   1   0]\n",
      " [  1   0   6   3 109   0  11   0   0   0]\n",
      " [  0   0   0   0   0 129   1   8   1   6]\n",
      " [ 25   1   7   2  14   0 107   0   1   0]\n",
      " [  0   0   0   0   0   7   0 136   0   2]\n",
      " [  1   0   2   1   0   2   4   1 155   0]\n",
      " [  0   0   0   0   0   0   0   8   0 135]] \n",
      "\n",
      "Accuracy for test dataset using Neural Network:\n",
      "0.8446666666666667 \n",
      "\n"
     ]
    }
   ],
   "source": [
    "print('Confusion matrix for validation dataset using Neural Network:')\n",
    "print(confusion(Yv,Yv_NN),'\\n')\n",
    "print('Accuracy for validation dataset using Neural Network:')\n",
    "print(accuracy(Yv,Yv_NN),'\\n')\n",
    "print('Confusion matrix for test dataset using Neural Network:')\n",
    "print(confusion(Yt,Yt_NN),'\\n')\n",
    "print('Accuracy for test dataset using Neural Network:')\n",
    "print(accuracy(Yt,Yt_NN),'\\n')"
   ]
  },
  {
   "cell_type": "code",
   "execution_count": 75,
   "metadata": {
    "colab": {
     "base_uri": "https://localhost:8080/",
     "height": 315
    },
    "executionInfo": {
     "elapsed": 381,
     "status": "ok",
     "timestamp": 1641571576789,
     "user": {
      "displayName": "Maryam Sabbagh",
      "photoUrl": "https://lh3.googleusercontent.com/a/default-user=s64",
      "userId": "06928927359545472632"
     },
     "user_tz": 480
    },
    "id": "-F7PKpXIAqxf",
    "outputId": "36812a48-e622-48c0-986b-4e5a81534449"
   },
   "outputs": [
    {
     "data": {
      "text/plain": [
       "Text(0, 0.5, 'accuracy')"
      ]
     },
     "execution_count": 75,
     "metadata": {},
     "output_type": "execute_result"
    },
    {
     "data": {
      "image/png": "[encoded data removed]",
      "text/plain": [
       "<Figure size 432x288 with 1 Axes>"
      ]
     },
     "metadata": {
      "needs_background": "light"
     },
     "output_type": "display_data"
    }
   ],
   "source": [
    "plt.plot(np.arange(30) + 1, loss_vs_time)\n",
    "plt.title(\"Validation Accuracy\")\n",
    "plt.xlabel('number of epochs', fontsize=12)\n",
    "plt.ylabel('accuracy', fontsize=12)"
   ]
  }
 ],
 "metadata": {
  "accelerator": "GPU",
  "colab": {
   "collapsed_sections": [],
   "name": "ML_CHW3.ipynb",
   "provenance": []
  },
  "kernelspec": {
   "display_name": "Python 3",
   "language": "python",
   "name": "python3"
  },
  "language_info": {
   "codemirror_mode": {
    "name": "ipython",
    "version": 3
   },
   "file_extension": ".py",
   "mimetype": "text/x-python",
   "name": "python",
   "nbconvert_exporter": "python",
   "pygments_lexer": "ipython3",
   "version": "3.8.5"
  }
 },
 "nbformat": 4,
 "nbformat_minor": 1
}
