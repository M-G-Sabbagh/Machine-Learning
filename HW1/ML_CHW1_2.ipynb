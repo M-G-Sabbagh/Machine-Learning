{
 "cells": [
  {
   "cell_type": "code",
   "execution_count": 27,
   "metadata": {},
   "outputs": [],
   "source": [
    "import numpy as np\n",
    "import matplotlib.pyplot as plt "
   ]
  },
  {
   "cell_type": "code",
   "execution_count": 3,
   "metadata": {},
   "outputs": [],
   "source": [
    "S = np.load(\"train_data.npy\")\n",
    "V = np.load(\"validation_data.npy\")\n",
    "T = np.load(\"test_data.npy\")"
   ]
  },
  {
   "cell_type": "markdown",
   "metadata": {},
   "source": [
    "Polynomial of degree n: $(w_{0} + w_{1}x + w_{2}x^2 + ... + w_{n}x^n)$"
   ]
  },
  {
   "cell_type": "code",
   "execution_count": 61,
   "metadata": {},
   "outputs": [],
   "source": [
    "def psi_func(n,dataset):\n",
    "    X = dataset[:,0]\n",
    "    num = np.shape(dataset)[0]\n",
    "    si = np.zeros((n + 1, num))\n",
    "    for i in range(n + 1):\n",
    "        for j in range(num):\n",
    "            si[i,j] = X[j] ** i   \n",
    "    return si\n",
    "            \n",
    "def h(n,dataset):\n",
    "    num = np.shape(dataset)[0] # number of data\n",
    "    X = dataset[:,0]\n",
    "    Y = dataset[:, 1]    \n",
    "    psi = psi_func(n,dataset)\n",
    "    A = psi @ np.transpose(psi)\n",
    "    B = psi @ Y\n",
    "    if np.shape(A) == ():\n",
    "        W = A**(-1) * Y\n",
    "    else:\n",
    "        W = np.linalg.inv(A) @ B \n",
    "    return W\n",
    "\n",
    "def MSE(n,dataset,W):\n",
    "    \n",
    "    num = np.shape(dataset)[0]\n",
    "    Y = dataset[:, 1]  \n",
    "    psi = psi_func(n,dataset)\n",
    "    est = np.transpose(W) @ psi\n",
    "    \n",
    "    error = 0\n",
    "    for i in range(num):\n",
    "        error = error + (est[i] - Y[i])**2\n",
    "    error = error / num\n",
    "    return error\n",
    "    \n",
    "    \n",
    "\n",
    "        \n",
    "    \n",
    "    "
   ]
  },
  {
   "cell_type": "code",
   "execution_count": 64,
   "metadata": {},
   "outputs": [
    {
     "name": "stdout",
     "output_type": "stream",
     "text": [
      "Empirical risk =  [0.76180387 0.25136046 0.24056692 0.1480787  0.12273473 0.08872309\n",
      " 0.08871247 0.04482113 0.04460211 0.04074881 0.03870594 0.03868863\n",
      " 0.03603302 0.03423679 0.03314245]\n"
     ]
    },
    {
     "data": {
      "image/png": "[encoded data removed]",
      "text/plain": [
       "<Figure size 432x288 with 1 Axes>"
      ]
     },
     "metadata": {
      "needs_background": "light"
     },
     "output_type": "display_data"
    }
   ],
   "source": [
    "empirical_risk = np.zeros(15)\n",
    "v_risk = np.zeros(15)\n",
    "\n",
    "for i in range(15):\n",
    "    W = h(i + 1, S)\n",
    "    empirical_risk[i] = MSE(i + 1, S, W)\n",
    "    v_risk[i] = MSE(i + 1, V, W)\n",
    "\n",
    "plt.plot(np.arange(15) + 1,empirical_risk)\n",
    "print(\"Empirical risk = \", empirical_risk)"
   ]
  },
  {
   "cell_type": "code",
   "execution_count": 63,
   "metadata": {},
   "outputs": [
    {
     "name": "stdout",
     "output_type": "stream",
     "text": [
      "True risk of V dataset =  [ 1.10114131  0.51751891  0.43354164  0.37267375  0.50341821  0.69735437\n",
      "  0.70672655  0.11129319  0.1342869   0.9009469   3.27151552  2.72464724\n",
      " 20.38626341  1.45518846 52.6946623 ]\n"
     ]
    },
    {
     "data": {
      "image/png": "[encoded data removed]",
      "text/plain": [
       "<Figure size 432x288 with 1 Axes>"
      ]
     },
     "metadata": {
      "needs_background": "light"
     },
     "output_type": "display_data"
    }
   ],
   "source": [
    "plt.plot(np.arange(15) + 1,v_risk)\n",
    "print(\"True risk of V dataset = \", v_risk)\n"
   ]
  },
  {
   "cell_type": "code",
   "execution_count": 67,
   "metadata": {},
   "outputs": [
    {
     "name": "stdout",
     "output_type": "stream",
     "text": [
      "True risk of T dataset =  0.11791424797140455\n"
     ]
    }
   ],
   "source": [
    "W = h(8, S)\n",
    "print(\"True risk of T dataset = \",MSE(8, T, W))"
   ]
  }
 ],
 "metadata": {
  "kernelspec": {
   "display_name": "Python 3",
   "language": "python",
   "name": "python3"
  },
  "language_info": {
   "codemirror_mode": {
    "name": "ipython",
    "version": 3
   },
   "file_extension": ".py",
   "mimetype": "text/x-python",
   "name": "python",
   "nbconvert_exporter": "python",
   "pygments_lexer": "ipython3",
   "version": "3.8.5"
  }
 },
 "nbformat": 4,
 "nbformat_minor": 4
}
