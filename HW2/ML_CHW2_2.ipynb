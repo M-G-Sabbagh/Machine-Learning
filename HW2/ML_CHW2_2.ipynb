{
 "cells": [
  {
   "cell_type": "code",
   "execution_count": 2,
   "metadata": {},
   "outputs": [],
   "source": [
    "import pandas as pd\n",
    "import numpy as np\n",
    "import matplotlib.pyplot as plt \n",
    "from sklearn.tree import DecisionTreeClassifier"
   ]
  },
  {
   "cell_type": "code",
   "execution_count": 3,
   "metadata": {},
   "outputs": [],
   "source": [
    "def loss(Y, Y_predict):\n",
    "    loss = 0\n",
    "    for i in range(len(Y)):\n",
    "        if (Y[i] != Y_predict[i]):\n",
    "            loss = loss + 1      \n",
    "    return loss/len(Y)"
   ]
  },
  {
   "cell_type": "code",
   "execution_count": 4,
   "metadata": {},
   "outputs": [],
   "source": [
    "# A. Load Data\n",
    "dataset = pd.read_csv(\"mushrooms.csv\")\n",
    "npdataset = dataset.to_numpy()"
   ]
  },
  {
   "cell_type": "code",
   "execution_count": 5,
   "metadata": {},
   "outputs": [],
   "source": [
    "X = npdataset[:, 1 : ]\n",
    "Y = npdataset[:, 0]\n",
    "\n",
    "X_train = X[0 : 5687, : ]\n",
    "Y_train = Y[0 : 5687]\n",
    "\n",
    "X_val = X[5687 : 7312, : ]\n",
    "Y_val = Y[5687 : 7312]\n",
    "\n",
    "X_test = X[7312 : , : ]\n",
    "Y_test = Y[7312 : ]"
   ]
  },
  {
   "cell_type": "code",
   "execution_count": 6,
   "metadata": {},
   "outputs": [
    {
     "data": {
      "text/plain": [
       "[<matplotlib.lines.Line2D at 0x1ee1032a430>]"
      ]
     },
     "execution_count": 6,
     "metadata": {},
     "output_type": "execute_result"
    },
    {
     "data": {
      "image/png": "[encoded data removed]",
      "text/plain": [
       "<Figure size 432x288 with 1 Axes>"
      ]
     },
     "metadata": {
      "needs_background": "light"
     },
     "output_type": "display_data"
    }
   ],
   "source": [
    "depth_tree = [4, 6, 8, 10, 12, 14, 16, 18, 20]\n",
    "loss_arr = []\n",
    "for depth in depth_tree:\n",
    "    # Create Decision Tree classifier object\n",
    "    clf = DecisionTreeClassifier(max_depth = depth, random_state = 24)\n",
    "    # Train Decision Tree Classifier\n",
    "    clf = clf.fit(X_train, Y_train)\n",
    "    #Predict the response for test dataset\n",
    "    Y_val_pred = clf.predict(X_val)\n",
    "    loss_arr.append(loss(Y_val, Y_val_pred))\n",
    "    \n",
    "plt.plot(depth_tree, loss_arr)\n"
   ]
  },
  {
   "cell_type": "code",
   "execution_count": 7,
   "metadata": {},
   "outputs": [
    {
     "name": "stdout",
     "output_type": "stream",
     "text": [
      "0.09113300492610837\n"
     ]
    }
   ],
   "source": [
    "clf = DecisionTreeClassifier(max_depth = 6, random_state = 24)\n",
    "clf = clf.fit(X_train, Y_train)\n",
    "\n",
    "Y_test_pred = clf.predict(X_test)\n",
    "print(loss(Y_test_pred, Y_test))"
   ]
  }
 ],
 "metadata": {
  "kernelspec": {
   "display_name": "Python 3",
   "language": "python",
   "name": "python3"
  },
  "language_info": {
   "codemirror_mode": {
    "name": "ipython",
    "version": 3
   },
   "file_extension": ".py",
   "mimetype": "text/x-python",
   "name": "python",
   "nbconvert_exporter": "python",
   "pygments_lexer": "ipython3",
   "version": "3.8.5"
  }
 },
 "nbformat": 4,
 "nbformat_minor": 4
}
